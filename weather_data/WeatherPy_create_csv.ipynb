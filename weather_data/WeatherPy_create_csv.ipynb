{
 "cells": [
  {
   "cell_type": "code",
   "execution_count": 12,
   "metadata": {},
   "outputs": [],
   "source": [
    "# Import the dependencies.\n",
    "import pandas as pd\n",
    "import matplotlib.pyplot as plt\n",
    "import numpy as np\n",
    "from citipy import citipy\n"
   ]
  },
  {
   "cell_type": "code",
   "execution_count": 13,
   "metadata": {},
   "outputs": [
    {
     "data": {
      "text/plain": [
       "<zip at 0x275447bf688>"
      ]
     },
     "execution_count": 13,
     "metadata": {},
     "output_type": "execute_result"
    }
   ],
   "source": [
    "# Create a set of random latitude and longitude combinations.\n",
    "lats = np.random.uniform(low=-90.000, high=90.000, size=1500)\n",
    "lngs = np.random.uniform(low=-180.000, high=180.000, size=1500)\n",
    "lat_lngs = zip(lats, lngs)\n",
    "lat_lngs"
   ]
  },
  {
   "cell_type": "code",
   "execution_count": 14,
   "metadata": {},
   "outputs": [],
   "source": [
    "# Add the latitudes and longitudes to a list.\n",
    "coordinates = list(lat_lngs)"
   ]
  },
  {
   "cell_type": "code",
   "execution_count": 15,
   "metadata": {},
   "outputs": [
    {
     "data": {
      "text/plain": [
       "629"
      ]
     },
     "execution_count": 15,
     "metadata": {},
     "output_type": "execute_result"
    }
   ],
   "source": [
    "# Create a list for holding the cities.\n",
    "cities = []\n",
    "# Identify the nearest city for each latitude and longitude combination.\n",
    "for coordinate in coordinates:\n",
    "    city = citipy.nearest_city(coordinate[0], coordinate[1]).city_name\n",
    "\n",
    "    # If the city is unique, then we will add it to the cities list.\n",
    "    if city not in cities:\n",
    "        cities.append(city)\n",
    "# Print the city count to confirm sufficient count.\n",
    "len(cities)"
   ]
  },
  {
   "cell_type": "code",
   "execution_count": 16,
   "metadata": {},
   "outputs": [],
   "source": [
    "import requests\n",
    "# Import the API key.\n",
    "from config import weather_api_key"
   ]
  },
  {
   "cell_type": "code",
   "execution_count": 17,
   "metadata": {},
   "outputs": [
    {
     "name": "stdout",
     "output_type": "stream",
     "text": [
      "http://api.openweathermap.org/data/2.5/weather?units=Imperial&APPID=8b8e160125439fb51460a5b0a9d19b4b\n"
     ]
    }
   ],
   "source": [
    "# Starting URL for Weather Map API Call.\n",
    "url = \"http://api.openweathermap.org/data/2.5/weather?units=Imperial&APPID=\" + weather_api_key\n",
    "print(url)"
   ]
  },
  {
   "cell_type": "code",
   "execution_count": 18,
   "metadata": {},
   "outputs": [
    {
     "name": "stdout",
     "output_type": "stream",
     "text": [
      "http://api.openweathermap.org/data/2.5/weather?units=Imperial&APPID=8b8e160125439fb51460a5b0a9d19b4b&q=Boston\n"
     ]
    }
   ],
   "source": [
    "# Create an endpoint URL for a city.\n",
    "city_url = url + \"&q=\" + \"Boston\"\n",
    "print(city_url)"
   ]
  },
  {
   "cell_type": "code",
   "execution_count": 20,
   "metadata": {},
   "outputs": [
    {
     "data": {
      "text/plain": [
       "200"
      ]
     },
     "execution_count": 20,
     "metadata": {},
     "output_type": "execute_result"
    }
   ],
   "source": [
    "# Make a 'Get' request for the city weather.\n",
    "city_weather = requests.get(city_url)\n",
    "city_weather.status_code"
   ]
  },
  {
   "cell_type": "code",
   "execution_count": 21,
   "metadata": {},
   "outputs": [
    {
     "data": {
      "text/plain": [
       "<Response [404]>"
      ]
     },
     "execution_count": 21,
     "metadata": {},
     "output_type": "execute_result"
    }
   ],
   "source": [
    "# Create an endpoint URL for a city.\n",
    "city_url = url + \"&q=\" + \"Bston\"\n",
    "city_weather = requests.get(city_url)\n",
    "city_weather"
   ]
  },
  {
   "cell_type": "code",
   "execution_count": 22,
   "metadata": {},
   "outputs": [
    {
     "data": {
      "text/plain": [
       "<Response [200]>"
      ]
     },
     "execution_count": 22,
     "metadata": {},
     "output_type": "execute_result"
    }
   ],
   "source": [
    "# Create an endpoint URL for a city.\n",
    "city_url = url + \"&q=\" + \"Boston\"\n",
    "city_weather = requests.get(city_url)\n",
    "city_weather"
   ]
  },
  {
   "cell_type": "code",
   "execution_count": 23,
   "metadata": {},
   "outputs": [
    {
     "data": {
      "text/plain": [
       "'{\"coord\":{\"lon\":-71.0598,\"lat\":42.3584},\"weather\":[{\"id\":803,\"main\":\"Clouds\",\"description\":\"broken clouds\",\"icon\":\"04n\"}],\"base\":\"stations\",\"main\":{\"temp\":67.23,\"feels_like\":67.6,\"temp_min\":62.94,\"temp_max\":71.17,\"pressure\":1012,\"humidity\":84},\"visibility\":10000,\"wind\":{\"speed\":1.99,\"deg\":244,\"gust\":8.01},\"clouds\":{\"all\":75},\"dt\":1634335656,\"sys\":{\"type\":2,\"id\":2013408,\"country\":\"US\",\"sunrise\":1634295428,\"sunset\":1634335346},\"timezone\":-14400,\"id\":4930956,\"name\":\"Boston\",\"cod\":200}'"
      ]
     },
     "execution_count": 23,
     "metadata": {},
     "output_type": "execute_result"
    }
   ],
   "source": [
    "# Get the text of the 'Get' request.\n",
    "city_weather.text"
   ]
  },
  {
   "cell_type": "code",
   "execution_count": 24,
   "metadata": {},
   "outputs": [
    {
     "data": {
      "text/plain": [
       "{'coord': {'lon': -71.0598, 'lat': 42.3584},\n",
       " 'weather': [{'id': 803,\n",
       "   'main': 'Clouds',\n",
       "   'description': 'broken clouds',\n",
       "   'icon': '04n'}],\n",
       " 'base': 'stations',\n",
       " 'main': {'temp': 67.23,\n",
       "  'feels_like': 67.6,\n",
       "  'temp_min': 62.94,\n",
       "  'temp_max': 71.17,\n",
       "  'pressure': 1012,\n",
       "  'humidity': 84},\n",
       " 'visibility': 10000,\n",
       " 'wind': {'speed': 1.99, 'deg': 244, 'gust': 8.01},\n",
       " 'clouds': {'all': 75},\n",
       " 'dt': 1634335656,\n",
       " 'sys': {'type': 2,\n",
       "  'id': 2013408,\n",
       "  'country': 'US',\n",
       "  'sunrise': 1634295428,\n",
       "  'sunset': 1634335346},\n",
       " 'timezone': -14400,\n",
       " 'id': 4930956,\n",
       " 'name': 'Boston',\n",
       " 'cod': 200}"
      ]
     },
     "execution_count": 24,
     "metadata": {},
     "output_type": "execute_result"
    }
   ],
   "source": [
    "# Get the JSON text of the 'Get' request.\n",
    "city_weather.json()"
   ]
  },
  {
   "cell_type": "code",
   "execution_count": 25,
   "metadata": {},
   "outputs": [
    {
     "name": "stdout",
     "output_type": "stream",
     "text": [
      "City weather not found.\n",
      "http://api.openweathermap.org/data/2.5/weather?units=Imperial&APPID=8b8e160125439fb51460a5b0a9d19b4b&q=Bston\n"
     ]
    }
   ],
   "source": [
    "# Create an endpoint URL for a city.\n",
    "boston_url = url + \"&q=\" + \"Bston\"\n",
    "boston_weather = requests.get(boston_url)\n",
    "if boston_weather.status_code == 200:\n",
    "    print(f\"City Weather found.\")\n",
    "else:\n",
    "    print(f\"City weather not found.\")\n",
    "    \n",
    "print (boston_url)"
   ]
  },
  {
   "cell_type": "code",
   "execution_count": 26,
   "metadata": {
    "scrolled": true
   },
   "outputs": [
    {
     "data": {
      "text/plain": [
       "{'coord': {'lon': -71.0598, 'lat': 42.3584},\n",
       " 'weather': [{'id': 803,\n",
       "   'main': 'Clouds',\n",
       "   'description': 'broken clouds',\n",
       "   'icon': '04n'}],\n",
       " 'base': 'stations',\n",
       " 'main': {'temp': 67.23,\n",
       "  'feels_like': 67.6,\n",
       "  'temp_min': 62.94,\n",
       "  'temp_max': 71.17,\n",
       "  'pressure': 1012,\n",
       "  'humidity': 84},\n",
       " 'visibility': 10000,\n",
       " 'wind': {'speed': 1.99, 'deg': 244, 'gust': 8.01},\n",
       " 'clouds': {'all': 75},\n",
       " 'dt': 1634335656,\n",
       " 'sys': {'type': 2,\n",
       "  'id': 2013408,\n",
       "  'country': 'US',\n",
       "  'sunrise': 1634295428,\n",
       "  'sunset': 1634335346},\n",
       " 'timezone': -14400,\n",
       " 'id': 4930956,\n",
       " 'name': 'Boston',\n",
       " 'cod': 200}"
      ]
     },
     "execution_count": 26,
     "metadata": {},
     "output_type": "execute_result"
    }
   ],
   "source": [
    "# Create an endpoint URL for a city.\n",
    "city_url = url + \"&q=\" + \"Boston\"\n",
    "city_weather = requests.get(city_url)\n",
    "city_weather.json()\n"
   ]
  },
  {
   "cell_type": "code",
   "execution_count": 27,
   "metadata": {},
   "outputs": [],
   "source": [
    "# Get the JSON data.\n",
    "boston_data = city_weather.json()"
   ]
  },
  {
   "cell_type": "code",
   "execution_count": 28,
   "metadata": {},
   "outputs": [
    {
     "data": {
      "text/plain": [
       "'US'"
      ]
     },
     "execution_count": 28,
     "metadata": {},
     "output_type": "execute_result"
    }
   ],
   "source": [
    "boston_data['sys'][\"country\"]"
   ]
  },
  {
   "cell_type": "code",
   "execution_count": 29,
   "metadata": {},
   "outputs": [
    {
     "name": "stdout",
     "output_type": "stream",
     "text": [
      "42.3584 -71.0598 71.17 84 75 1.99\n"
     ]
    }
   ],
   "source": [
    "lat = boston_data[\"coord\"][\"lat\"]\n",
    "lng = boston_data[\"coord\"][\"lon\"]\n",
    "max_temp = boston_data[\"main\"][\"temp_max\"]\n",
    "humidity = boston_data[\"main\"][\"humidity\"]\n",
    "clouds = boston_data[\"clouds\"][\"all\"]\n",
    "wind = boston_data[\"wind\"][\"speed\"]\n",
    "print(lat, lng, max_temp, humidity, clouds, wind)"
   ]
  },
  {
   "cell_type": "code",
   "execution_count": 30,
   "metadata": {},
   "outputs": [
    {
     "data": {
      "text/plain": [
       "'2021-10-15 22:07:36'"
      ]
     },
     "execution_count": 30,
     "metadata": {},
     "output_type": "execute_result"
    }
   ],
   "source": [
    "# Import the datetime module from the datetime library.\n",
    "from datetime import datetime\n",
    "# Get the date from the JSON file.\n",
    "date = boston_data[\"dt\"]\n",
    "# Convert the UTC date to a date format with year, month, day, hours, minutes, and seconds.\n",
    "datetime.utcfromtimestamp(date).strftime('%Y-%m-%d %H:%M:%S')"
   ]
  },
  {
   "cell_type": "code",
   "execution_count": null,
   "metadata": {},
   "outputs": [
    {
     "name": "stdout",
     "output_type": "stream",
     "text": [
      "Beginning Data Retrieval     \n",
      "-----------------------------\n",
      "Processing Record 1 of Set 1 | lagoa\n",
      "Processing Record 2 of Set 1 | bethel\n",
      "Processing Record 3 of Set 1 | touros\n",
      "Processing Record 4 of Set 1 | conceicao do araguaia\n",
      "Processing Record 5 of Set 1 | atuona\n",
      "Processing Record 6 of Set 1 | udachnyy\n",
      "Processing Record 7 of Set 1 | ocos\n",
      "Processing Record 8 of Set 1 | la ronge\n",
      "Processing Record 9 of Set 1 | cape town\n",
      "Processing Record 10 of Set 1 | lisakovsk\n",
      "Processing Record 11 of Set 1 | hobart\n",
      "Processing Record 12 of Set 1 | kaitangata\n",
      "Processing Record 13 of Set 1 | saint-philippe\n",
      "Processing Record 14 of Set 1 | manitouwadge\n",
      "Processing Record 15 of Set 1 | upernavik\n",
      "Processing Record 16 of Set 1 | mataura\n",
      "Processing Record 17 of Set 1 | kegayli\n",
      "City not found. Skipping...\n",
      "Processing Record 18 of Set 1 | tual\n",
      "Processing Record 19 of Set 1 | qaanaaq\n",
      "Processing Record 20 of Set 1 | zeya\n",
      "Processing Record 21 of Set 1 | carman\n",
      "Processing Record 22 of Set 1 | chuy\n",
      "Processing Record 23 of Set 1 | avarua\n",
      "Processing Record 24 of Set 1 | mahebourg\n",
      "Processing Record 25 of Set 1 | rikitea\n",
      "Processing Record 26 of Set 1 | puerto escondido\n",
      "Processing Record 27 of Set 1 | san quintin\n",
      "Processing Record 28 of Set 1 | talnakh\n",
      "Processing Record 29 of Set 1 | mar del plata\n",
      "Processing Record 30 of Set 1 | tuktoyaktuk\n",
      "Processing Record 31 of Set 1 | pacific grove\n",
      "Processing Record 32 of Set 1 | puerto ayora\n",
      "Processing Record 33 of Set 1 | hilo\n",
      "Processing Record 34 of Set 1 | illoqqortoormiut\n",
      "City not found. Skipping...\n",
      "Processing Record 35 of Set 1 | punta arenas\n",
      "Processing Record 36 of Set 1 | dubbo\n",
      "Processing Record 37 of Set 1 | mys shmidta\n",
      "City not found. Skipping...\n",
      "Processing Record 38 of Set 1 | prince rupert\n",
      "Processing Record 39 of Set 1 | bolama\n",
      "Processing Record 40 of Set 1 | kodinsk\n",
      "Processing Record 41 of Set 1 | ushuaia\n",
      "Processing Record 42 of Set 1 | east london\n",
      "Processing Record 43 of Set 1 | bhavnagar\n",
      "Processing Record 44 of Set 1 | srisailam\n",
      "Processing Record 45 of Set 1 | butaritari\n",
      "Processing Record 46 of Set 1 | kaputa\n",
      "Processing Record 47 of Set 1 | albany\n",
      "Processing Record 48 of Set 1 | mayo\n",
      "Processing Record 49 of Set 1 | muyezerskiy\n",
      "Processing Record 50 of Set 1 | blind river\n",
      "Processing Record 1 of Set 2 | belushya guba\n",
      "City not found. Skipping...\n",
      "Processing Record 2 of Set 2 | inhambane\n",
      "Processing Record 3 of Set 2 | narsaq\n",
      "Processing Record 4 of Set 2 | kupang\n",
      "Processing Record 5 of Set 2 | busselton\n",
      "Processing Record 6 of Set 2 | coolum beach\n",
      "Processing Record 7 of Set 2 | georgetown\n",
      "Processing Record 8 of Set 2 | kodiak\n",
      "Processing Record 9 of Set 2 | hermanus\n",
      "Processing Record 10 of Set 2 | baculin\n",
      "Processing Record 11 of Set 2 | bardiyah\n",
      "Processing Record 12 of Set 2 | nikolskoye\n",
      "Processing Record 13 of Set 2 | buariki\n",
      "City not found. Skipping...\n",
      "Processing Record 14 of Set 2 | vila velha\n",
      "Processing Record 15 of Set 2 | necochea\n",
      "Processing Record 16 of Set 2 | mercedes\n",
      "Processing Record 17 of Set 2 | new norfolk\n",
      "Processing Record 18 of Set 2 | miraflores\n",
      "Processing Record 19 of Set 2 | vaini\n",
      "Processing Record 20 of Set 2 | tura\n",
      "Processing Record 21 of Set 2 | lompoc\n",
      "Processing Record 22 of Set 2 | norman wells\n",
      "Processing Record 23 of Set 2 | nantucket\n",
      "Processing Record 24 of Set 2 | pontianak\n",
      "Processing Record 25 of Set 2 | airai\n",
      "Processing Record 26 of Set 2 | lerwick\n",
      "Processing Record 27 of Set 2 | kruisfontein\n",
      "Processing Record 28 of Set 2 | cidreira\n",
      "Processing Record 29 of Set 2 | pangnirtung\n",
      "Processing Record 30 of Set 2 | chokurdakh\n",
      "Processing Record 31 of Set 2 | cristalina\n",
      "Processing Record 32 of Set 2 | iqaluit\n",
      "Processing Record 33 of Set 2 | coahuayana\n",
      "Processing Record 34 of Set 2 | shumskiy\n",
      "Processing Record 35 of Set 2 | sentyabrskiy\n",
      "City not found. Skipping...\n",
      "Processing Record 36 of Set 2 | khatanga\n",
      "Processing Record 37 of Set 2 | hasaki\n",
      "Processing Record 38 of Set 2 | ankpa\n",
      "Processing Record 39 of Set 2 | mountain home\n",
      "Processing Record 40 of Set 2 | calbuco\n",
      "Processing Record 41 of Set 2 | wad rawah\n",
      "Processing Record 42 of Set 2 | kigorobya\n",
      "Processing Record 43 of Set 2 | te anau\n",
      "Processing Record 44 of Set 2 | yakeshi\n",
      "Processing Record 45 of Set 2 | bambous virieux\n",
      "Processing Record 46 of Set 2 | pfaffikon\n",
      "Processing Record 47 of Set 2 | khor\n",
      "Processing Record 48 of Set 2 | san cristobal\n",
      "Processing Record 49 of Set 2 | taolanaro\n",
      "City not found. Skipping...\n",
      "Processing Record 50 of Set 2 | dingle\n",
      "Processing Record 1 of Set 3 | marcona\n",
      "City not found. Skipping...\n",
      "Processing Record 2 of Set 3 | chabahar\n",
      "Processing Record 3 of Set 3 | longyearbyen\n",
      "Processing Record 4 of Set 3 | pandan\n",
      "Processing Record 5 of Set 3 | walvis bay\n",
      "Processing Record 6 of Set 3 | egvekinot\n",
      "Processing Record 7 of Set 3 | kapaa\n",
      "Processing Record 8 of Set 3 | ixtapa\n",
      "Processing Record 9 of Set 3 | souillac\n",
      "Processing Record 10 of Set 3 | honningsvag\n",
      "Processing Record 11 of Set 3 | nanortalik\n",
      "Processing Record 12 of Set 3 | nizhneyansk\n",
      "City not found. Skipping...\n",
      "Processing Record 13 of Set 3 | tasiilaq\n",
      "Processing Record 14 of Set 3 | port elizabeth\n",
      "Processing Record 15 of Set 3 | amderma\n",
      "City not found. Skipping...\n",
      "Processing Record 16 of Set 3 | arraial do cabo\n",
      "Processing Record 17 of Set 3 | evensk\n",
      "Processing Record 18 of Set 3 | beringovskiy\n",
      "Processing Record 19 of Set 3 | kiunga\n",
      "Processing Record 20 of Set 3 | codrington\n",
      "Processing Record 21 of Set 3 | bengkulu\n",
      "Processing Record 22 of Set 3 | sataua\n",
      "City not found. Skipping...\n",
      "Processing Record 23 of Set 3 | askarovo\n",
      "Processing Record 24 of Set 3 | jamestown\n",
      "Processing Record 25 of Set 3 | guerrero negro\n",
      "Processing Record 26 of Set 3 | pevek\n",
      "Processing Record 27 of Set 3 | college\n",
      "Processing Record 28 of Set 3 | verkhnevilyuysk\n",
      "Processing Record 29 of Set 3 | turka\n",
      "Processing Record 30 of Set 3 | bom jesus\n",
      "Processing Record 31 of Set 3 | ballina\n",
      "Processing Record 32 of Set 3 | naze\n",
      "Processing Record 33 of Set 3 | tiksi\n",
      "Processing Record 34 of Set 3 | naron\n",
      "Processing Record 35 of Set 3 | kandrian\n",
      "Processing Record 36 of Set 3 | coronel vivida\n",
      "Processing Record 37 of Set 3 | jiangyou\n",
      "Processing Record 38 of Set 3 | mount gambier\n",
      "Processing Record 39 of Set 3 | patacamaya\n",
      "Processing Record 40 of Set 3 | vondrozo\n",
      "Processing Record 41 of Set 3 | petatlan\n",
      "Processing Record 42 of Set 3 | asau\n",
      "Processing Record 43 of Set 3 | huanan\n",
      "Processing Record 44 of Set 3 | santa vitoria do palmar\n",
      "Processing Record 45 of Set 3 | ilulissat\n",
      "Processing Record 46 of Set 3 | yellowknife\n",
      "Processing Record 47 of Set 3 | kargopol\n",
      "Processing Record 48 of Set 3 | thompson\n",
      "Processing Record 49 of Set 3 | sao joao da barra\n",
      "Processing Record 50 of Set 3 | alihe\n",
      "Processing Record 1 of Set 4 | rabo de peixe\n",
      "Processing Record 2 of Set 4 | cherskiy\n",
      "Processing Record 3 of Set 4 | ahipara\n",
      "Processing Record 4 of Set 4 | severo-kurilsk\n",
      "Processing Record 5 of Set 4 | port arthur\n",
      "Processing Record 6 of Set 4 | mendi\n",
      "Processing Record 7 of Set 4 | port hardy\n",
      "Processing Record 8 of Set 4 | belyy\n",
      "Processing Record 9 of Set 4 | lumberton\n",
      "Processing Record 10 of Set 4 | ribeira grande\n",
      "Processing Record 11 of Set 4 | beirut\n",
      "Processing Record 12 of Set 4 | marsh harbour\n",
      "Processing Record 13 of Set 4 | kavieng\n",
      "Processing Record 14 of Set 4 | kedgwick\n",
      "Processing Record 15 of Set 4 | kenitra\n",
      "Processing Record 16 of Set 4 | fortuna\n",
      "Processing Record 17 of Set 4 | longlac\n",
      "City not found. Skipping...\n",
      "Processing Record 18 of Set 4 | lodja\n",
      "Processing Record 19 of Set 4 | presidencia roque saenz pena\n",
      "Processing Record 20 of Set 4 | stryn\n",
      "Processing Record 21 of Set 4 | pisco\n",
      "Processing Record 22 of Set 4 | hithadhoo\n",
      "Processing Record 23 of Set 4 | aklavik\n",
      "Processing Record 24 of Set 4 | fomento\n",
      "Processing Record 25 of Set 4 | barrow\n",
      "Processing Record 26 of Set 4 | zaozerne\n",
      "Processing Record 27 of Set 4 | san carlos del zulia\n",
      "Processing Record 28 of Set 4 | moussoro\n",
      "Processing Record 29 of Set 4 | adrar\n",
      "Processing Record 30 of Set 4 | roswell\n",
      "Processing Record 31 of Set 4 | sisimiut\n",
      "Processing Record 32 of Set 4 | eshowe\n",
      "Processing Record 33 of Set 4 | himora\n",
      "City not found. Skipping...\n",
      "Processing Record 34 of Set 4 | ygatimi\n",
      "Processing Record 35 of Set 4 | baykit\n",
      "Processing Record 36 of Set 4 | nunchia\n",
      "Processing Record 37 of Set 4 | saskylakh\n",
      "Processing Record 38 of Set 4 | bluff\n"
     ]
    },
    {
     "name": "stdout",
     "output_type": "stream",
     "text": [
      "Processing Record 39 of Set 4 | moanda\n",
      "Processing Record 40 of Set 4 | yar-sale\n",
      "Processing Record 41 of Set 4 | athabasca\n",
      "Processing Record 42 of Set 4 | americana\n",
      "Processing Record 43 of Set 4 | sumbe\n",
      "Processing Record 44 of Set 4 | komsomolskiy\n",
      "Processing Record 45 of Set 4 | borovoy\n",
      "Processing Record 46 of Set 4 | solovetskiy\n",
      "City not found. Skipping...\n",
      "Processing Record 47 of Set 4 | banfora\n",
      "Processing Record 48 of Set 4 | valparaiso\n",
      "Processing Record 49 of Set 4 | carnarvon\n",
      "Processing Record 50 of Set 4 | faanui\n",
      "Processing Record 1 of Set 5 | sioux lookout\n",
      "Processing Record 2 of Set 5 | pascagoula\n",
      "Processing Record 3 of Set 5 | surok\n",
      "Processing Record 4 of Set 5 | moissala\n",
      "Processing Record 5 of Set 5 | atar\n",
      "Processing Record 6 of Set 5 | pokaran\n",
      "Processing Record 7 of Set 5 | dalbandin\n",
      "Processing Record 8 of Set 5 | miranorte\n",
      "City not found. Skipping...\n",
      "Processing Record 9 of Set 5 | cerrito\n",
      "Processing Record 10 of Set 5 | gornyy\n",
      "Processing Record 11 of Set 5 | vao\n",
      "Processing Record 12 of Set 5 | atotonilco el grande\n",
      "Processing Record 13 of Set 5 | gostyn\n",
      "Processing Record 14 of Set 5 | huarmey\n",
      "Processing Record 15 of Set 5 | pimentel\n",
      "Processing Record 16 of Set 5 | mokhsogollokh\n",
      "Processing Record 17 of Set 5 | constitucion\n",
      "Processing Record 18 of Set 5 | saldanha\n",
      "Processing Record 19 of Set 5 | klaksvik\n",
      "Processing Record 20 of Set 5 | antalaha\n",
      "Processing Record 21 of Set 5 | castro\n",
      "Processing Record 22 of Set 5 | batemans bay\n",
      "Processing Record 23 of Set 5 | byron bay\n",
      "Processing Record 24 of Set 5 | inuvik\n",
      "Processing Record 25 of Set 5 | ponta do sol\n",
      "Processing Record 26 of Set 5 | chagda\n",
      "City not found. Skipping...\n",
      "Processing Record 27 of Set 5 | faya\n",
      "Processing Record 28 of Set 5 | banjarmasin\n",
      "Processing Record 29 of Set 5 | apricena\n",
      "Processing Record 30 of Set 5 | bredasdorp\n",
      "Processing Record 31 of Set 5 | camacha\n",
      "Processing Record 32 of Set 5 | takaka\n",
      "Processing Record 33 of Set 5 | praia da vitoria\n",
      "Processing Record 34 of Set 5 | orsha\n",
      "Processing Record 35 of Set 5 | vaitupu\n",
      "City not found. Skipping...\n",
      "Processing Record 36 of Set 5 | kloulklubed\n",
      "Processing Record 37 of Set 5 | salalah\n",
      "Processing Record 38 of Set 5 | laguna\n",
      "Processing Record 39 of Set 5 | gualaco\n",
      "Processing Record 40 of Set 5 | barbar\n",
      "City not found. Skipping...\n",
      "Processing Record 41 of Set 5 | totoral\n",
      "Processing Record 42 of Set 5 | hervey bay\n",
      "Processing Record 43 of Set 5 | esperance\n",
      "Processing Record 44 of Set 5 | lazarev\n",
      "Processing Record 45 of Set 5 | tessalit\n",
      "Processing Record 46 of Set 5 | sibolga\n",
      "Processing Record 47 of Set 5 | isangel\n",
      "Processing Record 48 of Set 5 | baker city\n",
      "Processing Record 49 of Set 5 | caravelas\n",
      "Processing Record 50 of Set 5 | saint-pierre\n",
      "Processing Record 1 of Set 6 | carutapera\n",
      "Processing Record 2 of Set 6 | half moon bay\n",
      "Processing Record 3 of Set 6 | barentsburg\n",
      "City not found. Skipping...\n",
      "Processing Record 4 of Set 6 | ibimirim\n",
      "Processing Record 5 of Set 6 | lambari\n",
      "Processing Record 6 of Set 6 | yeletskiy\n",
      "City not found. Skipping...\n",
      "Processing Record 7 of Set 6 | kargil\n",
      "Processing Record 8 of Set 6 | yamada\n",
      "Processing Record 9 of Set 6 | christchurch\n",
      "Processing Record 10 of Set 6 | ngaoundere\n",
      "Processing Record 11 of Set 6 | bellavista\n",
      "Processing Record 12 of Set 6 | anori\n",
      "Processing Record 13 of Set 6 | fallon\n",
      "Processing Record 14 of Set 6 | bolungarvik\n",
      "City not found. Skipping...\n",
      "Processing Record 15 of Set 6 | grand river south east\n",
      "City not found. Skipping...\n",
      "Processing Record 16 of Set 6 | pasni\n",
      "Processing Record 17 of Set 6 | zhezkazgan\n",
      "Processing Record 18 of Set 6 | madingou\n",
      "Processing Record 19 of Set 6 | saleaula\n",
      "City not found. Skipping...\n",
      "Processing Record 20 of Set 6 | arona\n",
      "Processing Record 21 of Set 6 | bara\n",
      "Processing Record 22 of Set 6 | cockeysville\n",
      "Processing Record 23 of Set 6 | port blair\n",
      "Processing Record 24 of Set 6 | samarai\n",
      "Processing Record 25 of Set 6 | rungata\n",
      "City not found. Skipping...\n",
      "Processing Record 26 of Set 6 | umzimvubu\n",
      "City not found. Skipping...\n",
      "Processing Record 27 of Set 6 | saint-augustin\n",
      "Processing Record 28 of Set 6 | horsham\n",
      "Processing Record 29 of Set 6 | almeirim\n",
      "Processing Record 30 of Set 6 | itamaraca\n",
      "Processing Record 31 of Set 6 | henties bay\n",
      "Processing Record 32 of Set 6 | agustin codazzi\n",
      "Processing Record 33 of Set 6 | sakakah\n",
      "Processing Record 34 of Set 6 | ocala\n",
      "Processing Record 35 of Set 6 | saint-francois\n",
      "Processing Record 36 of Set 6 | padang\n",
      "Processing Record 37 of Set 6 | ipameri\n",
      "Processing Record 38 of Set 6 | rio grande\n",
      "Processing Record 39 of Set 6 | macherla\n",
      "Processing Record 40 of Set 6 | korla\n",
      "Processing Record 41 of Set 6 | molchanovo\n",
      "Processing Record 42 of Set 6 | nenjiang\n",
      "Processing Record 43 of Set 6 | yinchuan\n",
      "Processing Record 44 of Set 6 | paredon\n",
      "Processing Record 45 of Set 6 | paamiut\n",
      "Processing Record 46 of Set 6 | banjar\n",
      "Processing Record 47 of Set 6 | albion\n",
      "Processing Record 48 of Set 6 | kudahuvadhoo\n",
      "Processing Record 49 of Set 6 | asfi\n",
      "Processing Record 50 of Set 6 | brigantine\n",
      "Processing Record 1 of Set 7 | benito juarez\n",
      "Processing Record 2 of Set 7 | san ignacio\n",
      "Processing Record 3 of Set 7 | berlevag\n",
      "Processing Record 4 of Set 7 | kahului\n",
      "Processing Record 5 of Set 7 | sikonge\n",
      "Processing Record 6 of Set 7 | bastrop\n",
      "Processing Record 7 of Set 7 | hami\n",
      "Processing Record 8 of Set 7 | usinsk\n",
      "Processing Record 9 of Set 7 | cayenne\n",
      "Processing Record 10 of Set 7 | nguiu\n",
      "City not found. Skipping...\n",
      "Processing Record 11 of Set 7 | tacna\n",
      "Processing Record 12 of Set 7 | sambava\n",
      "Processing Record 13 of Set 7 | ambon\n",
      "Processing Record 14 of Set 7 | karratha\n",
      "Processing Record 15 of Set 7 | tvedestrand\n",
      "Processing Record 16 of Set 7 | one hundred mile house\n",
      "City not found. Skipping...\n",
      "Processing Record 17 of Set 7 | miyazu\n",
      "Processing Record 18 of Set 7 | vyazma\n",
      "Processing Record 19 of Set 7 | trossingen\n",
      "Processing Record 20 of Set 7 | buala\n",
      "Processing Record 21 of Set 7 | avera\n"
     ]
    }
   ],
   "source": [
    "# Create an empty list to hold the weather data.\n",
    "city_data = []\n",
    "# Print the beginning of the logging.\n",
    "print(\"Beginning Data Retrieval     \")\n",
    "print(\"-----------------------------\")\n",
    "\n",
    "# Create counters.\n",
    "record_count = 1\n",
    "set_count = 1\n",
    "\n",
    "# Loop through all the cities in the list.\n",
    "for i, city in enumerate(cities):\n",
    "\n",
    "    # Group cities in sets of 50 for logging purposes.\n",
    "    if (i % 50 == 0 and i >= 50):\n",
    "        set_count += 1\n",
    "        record_count = 1\n",
    "    # Create endpoint URL with each city.\n",
    "    city_url = url + \"&q=\" + city.replace(\" \",\"+\")\n",
    "\n",
    "    # Log the URL, record, and set numbers and the city.\n",
    "    print(f\"Processing Record {record_count} of Set {set_count} | {city}\")\n",
    "    # Add 1 to the record count.\n",
    "    record_count += 1\n",
    "    \n",
    "    # Run an API request for each of the cities.\n",
    "    try:\n",
    "        # Parse the JSON and retrieve data.\n",
    "        city_weather = requests.get(city_url).json()\n",
    "        # Parse out the needed data.\n",
    "        city_lat = city_weather[\"coord\"][\"lat\"]\n",
    "        city_lng = city_weather[\"coord\"][\"lon\"]\n",
    "        city_max_temp = city_weather[\"main\"][\"temp_max\"]\n",
    "        city_humidity = city_weather[\"main\"][\"humidity\"]\n",
    "        city_clouds = city_weather[\"clouds\"][\"all\"]\n",
    "        city_wind = city_weather[\"wind\"][\"speed\"]\n",
    "        city_country = city_weather[\"sys\"][\"country\"]\n",
    "        # Convert the date to ISO standard.\n",
    "        city_date = datetime.utcfromtimestamp(city_weather[\"dt\"]).strftime('%Y-%m-%d %H:%M:%S')\n",
    "        # Append the city information into city_data list.\n",
    "        city_data.append({\"City\": city.title(),\n",
    "                          \"Cloudiness\": city_clouds,\n",
    "                          \"Country\": city_country,\n",
    "                          \"Date\": city_date,\n",
    "                          \"Humidity\": city_humidity,\n",
    "                          \"Lat\": city_lat,\n",
    "                          \"Lng\": city_lng,\n",
    "                          \"Max Temp\": city_max_temp,                         \n",
    "                          \"Wind Speed\": city_wind})\n",
    "                          \n",
    "\n",
    "    # If an error is experienced, skip the city.\n",
    "    except:\n",
    "        print(\"City not found. Skipping...\")\n",
    "        pass\n",
    "\n",
    "# Indicate that Data Loading is complete.\n",
    "print(\"-----------------------------\")\n",
    "print(\"Data Retrieval Complete      \")\n",
    "print(\"-----------------------------\")"
   ]
  },
  {
   "cell_type": "code",
   "execution_count": 11,
   "metadata": {},
   "outputs": [
    {
     "ename": "NameError",
     "evalue": "name 'city_data' is not defined",
     "output_type": "error",
     "traceback": [
      "\u001b[1;31m---------------------------------------------------------------------------\u001b[0m",
      "\u001b[1;31mNameError\u001b[0m                                 Traceback (most recent call last)",
      "\u001b[1;32m<ipython-input-11-d8b275e67a33>\u001b[0m in \u001b[0;36m<module>\u001b[1;34m\u001b[0m\n\u001b[0;32m      1\u001b[0m \u001b[1;31m# Convert the array of dictionaries to a Pandas DataFrame.\u001b[0m\u001b[1;33m\u001b[0m\u001b[1;33m\u001b[0m\u001b[1;33m\u001b[0m\u001b[0m\n\u001b[1;32m----> 2\u001b[1;33m \u001b[0mcity_data_df\u001b[0m \u001b[1;33m=\u001b[0m \u001b[0mpd\u001b[0m\u001b[1;33m.\u001b[0m\u001b[0mDataFrame\u001b[0m\u001b[1;33m(\u001b[0m\u001b[0mcity_data\u001b[0m\u001b[1;33m)\u001b[0m\u001b[1;33m\u001b[0m\u001b[1;33m\u001b[0m\u001b[0m\n\u001b[0m\u001b[0;32m      3\u001b[0m \u001b[0mcity_data_df\u001b[0m\u001b[1;33m.\u001b[0m\u001b[0mhead\u001b[0m\u001b[1;33m(\u001b[0m\u001b[1;36m10\u001b[0m\u001b[1;33m)\u001b[0m\u001b[1;33m\u001b[0m\u001b[1;33m\u001b[0m\u001b[0m\n",
      "\u001b[1;31mNameError\u001b[0m: name 'city_data' is not defined"
     ]
    }
   ],
   "source": [
    "# Convert the array of dictionaries to a Pandas DataFrame.\n",
    "city_data_df = pd.DataFrame(city_data)\n",
    "city_data_df.head(10)"
   ]
  },
  {
   "cell_type": "code",
   "execution_count": 21,
   "metadata": {},
   "outputs": [
    {
     "data": {
      "text/html": [
       "<div>\n",
       "<style scoped>\n",
       "    .dataframe tbody tr th:only-of-type {\n",
       "        vertical-align: middle;\n",
       "    }\n",
       "\n",
       "    .dataframe tbody tr th {\n",
       "        vertical-align: top;\n",
       "    }\n",
       "\n",
       "    .dataframe thead th {\n",
       "        text-align: right;\n",
       "    }\n",
       "</style>\n",
       "<table border=\"1\" class=\"dataframe\">\n",
       "  <thead>\n",
       "    <tr style=\"text-align: right;\">\n",
       "      <th></th>\n",
       "      <th>City</th>\n",
       "      <th>Country</th>\n",
       "      <th>Date</th>\n",
       "      <th>Lat</th>\n",
       "      <th>Lng</th>\n",
       "      <th>Max Temp</th>\n",
       "      <th>Humidity</th>\n",
       "      <th>Cloudiness</th>\n",
       "      <th>Wind Speed</th>\n",
       "    </tr>\n",
       "  </thead>\n",
       "  <tbody>\n",
       "    <tr>\n",
       "      <th>0</th>\n",
       "      <td>Ribeira Grande</td>\n",
       "      <td>PT</td>\n",
       "      <td>2021-10-15 03:53:52</td>\n",
       "      <td>38.5167</td>\n",
       "      <td>-28.7000</td>\n",
       "      <td>70.43</td>\n",
       "      <td>81</td>\n",
       "      <td>59</td>\n",
       "      <td>11.41</td>\n",
       "    </tr>\n",
       "    <tr>\n",
       "      <th>1</th>\n",
       "      <td>Castro</td>\n",
       "      <td>BR</td>\n",
       "      <td>2021-10-15 03:53:52</td>\n",
       "      <td>-24.7911</td>\n",
       "      <td>-50.0119</td>\n",
       "      <td>59.85</td>\n",
       "      <td>95</td>\n",
       "      <td>5</td>\n",
       "      <td>4.79</td>\n",
       "    </tr>\n",
       "    <tr>\n",
       "      <th>2</th>\n",
       "      <td>Adrar</td>\n",
       "      <td>MR</td>\n",
       "      <td>2021-10-15 03:53:53</td>\n",
       "      <td>20.5022</td>\n",
       "      <td>-10.0711</td>\n",
       "      <td>79.11</td>\n",
       "      <td>19</td>\n",
       "      <td>7</td>\n",
       "      <td>11.27</td>\n",
       "    </tr>\n",
       "    <tr>\n",
       "      <th>3</th>\n",
       "      <td>Puerto Ayora</td>\n",
       "      <td>EC</td>\n",
       "      <td>2021-10-15 03:53:53</td>\n",
       "      <td>-0.7393</td>\n",
       "      <td>-90.3518</td>\n",
       "      <td>68.76</td>\n",
       "      <td>83</td>\n",
       "      <td>39</td>\n",
       "      <td>9.89</td>\n",
       "    </tr>\n",
       "    <tr>\n",
       "      <th>4</th>\n",
       "      <td>Ponta Do Sol</td>\n",
       "      <td>PT</td>\n",
       "      <td>2021-10-15 03:53:54</td>\n",
       "      <td>32.6667</td>\n",
       "      <td>-17.1000</td>\n",
       "      <td>68.72</td>\n",
       "      <td>74</td>\n",
       "      <td>6</td>\n",
       "      <td>2.24</td>\n",
       "    </tr>\n",
       "  </tbody>\n",
       "</table>\n",
       "</div>"
      ],
      "text/plain": [
       "             City Country                 Date      Lat      Lng  Max Temp  \\\n",
       "0  Ribeira Grande      PT  2021-10-15 03:53:52  38.5167 -28.7000     70.43   \n",
       "1          Castro      BR  2021-10-15 03:53:52 -24.7911 -50.0119     59.85   \n",
       "2           Adrar      MR  2021-10-15 03:53:53  20.5022 -10.0711     79.11   \n",
       "3    Puerto Ayora      EC  2021-10-15 03:53:53  -0.7393 -90.3518     68.76   \n",
       "4    Ponta Do Sol      PT  2021-10-15 03:53:54  32.6667 -17.1000     68.72   \n",
       "\n",
       "   Humidity  Cloudiness  Wind Speed  \n",
       "0        81          59       11.41  \n",
       "1        95           5        4.79  \n",
       "2        19           7       11.27  \n",
       "3        83          39        9.89  \n",
       "4        74           6        2.24  "
      ]
     },
     "execution_count": 21,
     "metadata": {},
     "output_type": "execute_result"
    }
   ],
   "source": [
    "new_column_order = [\"City\", \"Country\", \"Date\",\"Lat\",\"Lng\",\"Max Temp\",\"Humidity\",\"Cloudiness\",\"Wind Speed\"]\n",
    "city_data_df = city_data_df[new_column_order]\n",
    "city_data_df.head()"
   ]
  },
  {
   "cell_type": "code",
   "execution_count": 23,
   "metadata": {},
   "outputs": [],
   "source": [
    "# Create the output file (CSV).\n",
    "output_data_file = \"cities.csv\"\n",
    "# Export the City_Data into a CSV.\n",
    "city_data_df.to_csv(output_data_file, index_label=\"City_ID\")"
   ]
  },
  {
   "cell_type": "code",
   "execution_count": null,
   "metadata": {},
   "outputs": [],
   "source": []
  }
 ],
 "metadata": {
  "kernelspec": {
   "display_name": "Python 3",
   "language": "python",
   "name": "python3"
  },
  "language_info": {
   "codemirror_mode": {
    "name": "ipython",
    "version": 3
   },
   "file_extension": ".py",
   "mimetype": "text/x-python",
   "name": "python",
   "nbconvert_exporter": "python",
   "pygments_lexer": "ipython3",
   "version": "3.7.10"
  }
 },
 "nbformat": 4,
 "nbformat_minor": 4
}
